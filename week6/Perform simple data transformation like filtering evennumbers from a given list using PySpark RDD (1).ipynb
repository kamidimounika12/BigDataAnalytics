{
 "cells": [
  {
   "cell_type": "markdown",
   "id": "b5e5e186-c3e1-4135-998e-c591e55319de",
   "metadata": {},
   "source": [
    "Perform simple data transformation like filtering evennumbers from a given list using PySpark RDD (266)"
   ]
  },
  {
   "cell_type": "code",
   "execution_count": 1,
   "id": "a9b3c957-d7b7-41c4-93bb-9c6e304d1d41",
   "metadata": {},
   "outputs": [
    {
     "data": {
      "text/html": [
       "\n",
       "        <div>\n",
       "            <p><b>SparkContext</b></p>\n",
       "\n",
       "            <p><a href=\"http://Mounika:4043\">Spark UI</a></p>\n",
       "\n",
       "            <dl>\n",
       "              <dt>Version</dt>\n",
       "                <dd><code>v4.0.1</code></dd>\n",
       "              <dt>Master</dt>\n",
       "                <dd><code>local[*]</code></dd>\n",
       "              <dt>AppName</dt>\n",
       "                <dd><code>PySparkShell</code></dd>\n",
       "            </dl>\n",
       "        </div>\n",
       "        "
      ],
      "text/plain": [
       "<SparkContext master=local[*] appName=PySparkShell>"
      ]
     },
     "execution_count": 1,
     "metadata": {},
     "output_type": "execute_result"
    }
   ],
   "source": [
    "sc"
   ]
  },
  {
   "cell_type": "code",
   "execution_count": 2,
   "id": "9074c24f-c016-4e75-93b2-f7196e71b694",
   "metadata": {},
   "outputs": [],
   "source": [
    "import random"
   ]
  },
  {
   "cell_type": "code",
   "execution_count": 3,
   "id": "e8b3daf3-1069-422b-8002-8e6b4e4c394c",
   "metadata": {},
   "outputs": [
    {
     "name": "stdout",
     "output_type": "stream",
     "text": [
      "Original List:\n",
      "[359, 387, 910, 93, 870, 286, 641, 544, 409, 590, 187, 653, 63, 598, 791, 335, 650, 860, 690, 623, 285, 315, 380, 894, 141, 233, 963, 306, 154, 496, 782, 556, 577, 678, 624, 523, 539, 463, 356, 270, 244, 816, 756, 130, 248, 343, 578, 476, 518, 972, 923, 551, 1, 368, 8, 86, 995, 858, 348, 359, 809, 186, 902, 982, 700, 543, 321, 781, 717, 496, 544, 196, 938, 632, 368, 694, 817, 809, 228, 19, 82, 408, 385, 477, 647, 75, 702, 365, 57, 569, 220, 767, 596, 514, 677, 641, 908, 301, 237, 10]\n"
     ]
    }
   ],
   "source": [
    "random_numbers = [random.randint(1, 1000) for _ in range(100)]\n",
    "print(\"Original List:\")\n",
    "print(random_numbers)"
   ]
  },
  {
   "cell_type": "code",
   "execution_count": 4,
   "id": "4358cefb-5f4a-421a-8936-df7ec6ce1450",
   "metadata": {},
   "outputs": [],
   "source": [
    "numbers_rdd = sc.parallelize(random_numbers)"
   ]
  },
  {
   "cell_type": "code",
   "execution_count": 5,
   "id": "bc65a642-226d-462f-87df-1a02a4766e9b",
   "metadata": {},
   "outputs": [],
   "source": [
    "even_numbers_rdd = numbers_rdd.filter(lambda x: x % 2 == 0)"
   ]
  },
  {
   "cell_type": "code",
   "execution_count": 6,
   "id": "52b13188-f44d-47b6-aa7c-54d7adadfd37",
   "metadata": {},
   "outputs": [
    {
     "name": "stdout",
     "output_type": "stream",
     "text": [
      "\n",
      "Even Numbers:\n",
      "[910, 870, 286, 544, 590, 598, 650, 860, 690, 380, 894, 306, 154, 496, 782, 556, 678, 624, 356, 270, 244, 816, 756, 130, 248, 578, 476, 518, 972, 368, 8, 86, 858, 348, 186, 902, 982, 700, 496, 544, 196, 938, 632, 368, 694, 228, 82, 408, 702, 220, 596, 514, 908, 10]\n"
     ]
    }
   ],
   "source": [
    "even_numbers = even_numbers_rdd.collect()\n",
    "\n",
    "print(\"\\nEven Numbers:\")\n",
    "print(even_numbers)"
   ]
  },
  {
   "cell_type": "code",
   "execution_count": null,
   "id": "02ed62f2-41fb-4cc7-83d5-6752b1a560ae",
   "metadata": {},
   "outputs": [],
   "source": []
  }
 ],
 "metadata": {
  "kernelspec": {
   "display_name": "Python 3 (ipykernel)",
   "language": "python",
   "name": "python3"
  },
  "language_info": {
   "codemirror_mode": {
    "name": "ipython",
    "version": 3
   },
   "file_extension": ".py",
   "mimetype": "text/x-python",
   "name": "python",
   "nbconvert_exporter": "python",
   "pygments_lexer": "ipython3",
   "version": "3.11.9"
  }
 },
 "nbformat": 4,
 "nbformat_minor": 5
}
